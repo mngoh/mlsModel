{
 "cells": [
  {
   "attachments": {},
   "cell_type": "markdown",
   "id": "ea9cd44d",
   "metadata": {},
   "source": [
    "## 0a_data_scrape \n",
    "### Purpose: Scrape Soccer Stats From Website \n",
    "#### 09/27/2023 "
   ]
  },
  {
   "cell_type": "code",
   "execution_count": null,
   "id": "a75b4953",
   "metadata": {},
   "outputs": [],
   "source": [
    "# Import Libraries \n",
    "from bs4 import BeautifulSoup\n",
    "import requests as rq\n",
    "import pandas as pd \n",
    "import numpy as np \n",
    "import seaborn as sns\n",
    "import matplotlib.pyplot as plt\n",
    "import requests"
   ]
  },
  {
   "cell_type": "code",
   "execution_count": null,
   "id": "4dbccee1",
   "metadata": {},
   "outputs": [],
   "source": [
    "# Extract GENERAL Table From Website\n",
    "years = range(2010, 2018, 1)\n",
    "years = [2021, 2022]\n",
    "dfs = {} \n",
    "for year in years:\n",
    "    url = f'https://fbref.com/en/comps/22/{year}/{year}-Major-League-Soccer-Stats'\n",
    "    response = requests.get(url)\n",
    "    if response.status_code == 200:\n",
    "        tables = pd.read_html(response.text)\n",
    "        df = pd.DataFrame(tables[4]) # 12 = Pass 14=Possession\n",
    "        df.columns = [col[1] for col in df.columns]\n",
    "        df['year'] = year       \n",
    "        dfs[f'df_{year}'] = df \n",
    "        print(df)\n",
    "    else:\n",
    "        print(f\"Failed to fetch data for {year}\")"
   ]
  },
  {
   "cell_type": "code",
   "execution_count": null,
   "id": "01f95943",
   "metadata": {},
   "outputs": [],
   "source": [
    "# Assign DataFrames to global variables (if necessary)\n",
    "for year in years:\n",
    "    globals()[f'df_{year}'] = dfs[f'df_{year}']\n",
    "\n",
    "# Concat DFs \n",
    "#mls_final = pd.concat([df_2010, df_2011, df_2012, df_2013, df_2014, df_2015, df_2016, df_2017])\n",
    "mls_final = pd.concat([df_2021, df_2022])"
   ]
  },
  {
   "cell_type": "code",
   "execution_count": null,
   "id": "dabffa0c",
   "metadata": {},
   "outputs": [],
   "source": [
    "mls_final"
   ]
  },
  {
   "cell_type": "code",
   "execution_count": null,
   "id": "c4606d23",
   "metadata": {},
   "outputs": [],
   "source": [
    "mls_final.to_csv('mls_data_2010_2017.csv', index=False)"
   ]
  },
  {
   "cell_type": "code",
   "execution_count": null,
   "id": "b8b12c42",
   "metadata": {},
   "outputs": [],
   "source": []
  }
 ],
 "metadata": {
  "kernelspec": {
   "display_name": "Python 3",
   "language": "python",
   "name": "python3"
  },
  "language_info": {
   "codemirror_mode": {
    "name": "ipython",
    "version": 3
   },
   "file_extension": ".py",
   "mimetype": "text/x-python",
   "name": "python",
   "nbconvert_exporter": "python",
   "pygments_lexer": "ipython3",
   "version": "3.10.0"
  }
 },
 "nbformat": 4,
 "nbformat_minor": 5
}
