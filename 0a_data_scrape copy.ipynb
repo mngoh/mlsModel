{
 "cells": [
  {
   "attachments": {},
   "cell_type": "markdown",
   "id": "ea9cd44d",
   "metadata": {},
   "source": [
    "## 0a_data_scrape \n",
    "### Purpose: Scrape Soccer Stats From Website \n",
    "#### 09/27/2023 "
   ]
  },
  {
   "cell_type": "code",
   "execution_count": 12,
   "id": "a75b4953",
   "metadata": {},
   "outputs": [],
   "source": [
    "# Import Libraries \n",
    "import pandas as pd \n",
    "import requests"
   ]
  },
  {
   "cell_type": "code",
   "execution_count": 13,
   "id": "4dbccee1",
   "metadata": {},
   "outputs": [
    {
     "name": "stdout",
     "output_type": "stream",
     "text": [
      "Failed to fetch data for 2021\n",
      "Failed to fetch data for 2022\n"
     ]
    }
   ],
   "source": [
    "# Extract GENERAL Table From Website\n",
    "years = range(2010, 2018, 1)\n",
    "years = [2021, 2022]\n",
    "dfs = {} \n",
    "for year in years:\n",
    "    url = f'https://fbref.com/en/comps/22/{year}/{year}-Major-League-Soccer-Stats'\n",
    "    response = requests.get(url)\n",
    "    if response.status_code == 200:\n",
    "        tables = pd.read_html(response.text)\n",
    "        df = pd.DataFrame(tables[3]) # 12 = Pass 14=Possession\n",
    "        df.columns = [col[1] for col in df.columns]\n",
    "        df['year'] = year       \n",
    "        dfs[f'df_{year}'] = df \n",
    "        print(df)\n",
    "    else:\n",
    "        print(f\"Failed to fetch data for {year}\")"
   ]
  },
  {
   "cell_type": "code",
   "execution_count": 7,
   "id": "01f95943",
   "metadata": {},
   "outputs": [
    {
     "ename": "KeyError",
     "evalue": "'df_2021'",
     "output_type": "error",
     "traceback": [
      "\u001b[0;31m---------------------------------------------------------------------------\u001b[0m",
      "\u001b[0;31mKeyError\u001b[0m                                  Traceback (most recent call last)",
      "Cell \u001b[0;32mIn[7], line 3\u001b[0m\n\u001b[1;32m      1\u001b[0m \u001b[39m# Assign DataFrames to global variables (if necessary)\u001b[39;00m\n\u001b[1;32m      2\u001b[0m \u001b[39mfor\u001b[39;00m year \u001b[39min\u001b[39;00m years:\n\u001b[0;32m----> 3\u001b[0m     \u001b[39mglobals\u001b[39m()[\u001b[39mf\u001b[39m\u001b[39m'\u001b[39m\u001b[39mdf_\u001b[39m\u001b[39m{\u001b[39;00myear\u001b[39m}\u001b[39;00m\u001b[39m'\u001b[39m] \u001b[39m=\u001b[39m dfs[\u001b[39mf\u001b[39;49m\u001b[39m'\u001b[39;49m\u001b[39mdf_\u001b[39;49m\u001b[39m{\u001b[39;49;00myear\u001b[39m}\u001b[39;49;00m\u001b[39m'\u001b[39;49m]\n\u001b[1;32m      5\u001b[0m \u001b[39m# Concat DFs \u001b[39;00m\n\u001b[1;32m      6\u001b[0m \u001b[39m#mls_final = pd.concat([df_2010, df_2011, df_2012, df_2013, df_2014, df_2015, df_2016, df_2017])\u001b[39;00m\n\u001b[1;32m      7\u001b[0m mls_final \u001b[39m=\u001b[39m pd\u001b[39m.\u001b[39mconcat([df_2021, df_2022])\n",
      "\u001b[0;31mKeyError\u001b[0m: 'df_2021'"
     ]
    }
   ],
   "source": [
    "# Assign DataFrames to global variables (if necessary)\n",
    "for year in years:\n",
    "    globals()[f'df_{year}'] = dfs[f'df_{year}']\n",
    "\n",
    "# Concat DFs \n",
    "#mls_final = pd.concat([df_2010, df_2011, df_2012, df_2013, df_2014, df_2015, df_2016, df_2017])\n",
    "mls_final = pd.concat([df_2021, df_2022])"
   ]
  },
  {
   "cell_type": "code",
   "execution_count": 8,
   "id": "dabffa0c",
   "metadata": {},
   "outputs": [
    {
     "ename": "NameError",
     "evalue": "name 'mls_final' is not defined",
     "output_type": "error",
     "traceback": [
      "\u001b[0;31m---------------------------------------------------------------------------\u001b[0m",
      "\u001b[0;31mNameError\u001b[0m                                 Traceback (most recent call last)",
      "Cell \u001b[0;32mIn[8], line 1\u001b[0m\n\u001b[0;32m----> 1\u001b[0m mls_final\n",
      "\u001b[0;31mNameError\u001b[0m: name 'mls_final' is not defined"
     ]
    }
   ],
   "source": [
    "mls_final"
   ]
  },
  {
   "cell_type": "code",
   "execution_count": null,
   "id": "c4606d23",
   "metadata": {},
   "outputs": [],
   "source": [
    "mls_final.to_csv('mls_data_2010_2017.csv', index=False)"
   ]
  }
 ],
 "metadata": {
  "kernelspec": {
   "display_name": "Python 3",
   "language": "python",
   "name": "python3"
  },
  "language_info": {
   "codemirror_mode": {
    "name": "ipython",
    "version": 3
   },
   "file_extension": ".py",
   "mimetype": "text/x-python",
   "name": "python",
   "nbconvert_exporter": "python",
   "pygments_lexer": "ipython3",
   "version": "3.10.0"
  }
 },
 "nbformat": 4,
 "nbformat_minor": 5
}
