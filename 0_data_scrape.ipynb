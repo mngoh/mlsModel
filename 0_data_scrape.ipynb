{
 "cells": [
  {
   "attachments": {},
   "cell_type": "markdown",
   "id": "ea9cd44d",
   "metadata": {},
   "source": [
    "## 0_data_scrape \n",
    "### Purpose: Scrape Soccer Stats From Website \n",
    "#### 09/27/2023 "
   ]
  },
  {
   "cell_type": "code",
   "execution_count": 2,
   "id": "a75b4953",
   "metadata": {},
   "outputs": [],
   "source": [
    "# Import Libraries \n",
    "from bs4 import BeautifulSoup\n",
    "import requests as rq\n",
    "import pandas as pd \n",
    "import numpy as np \n",
    "import seaborn as sns\n",
    "import matplotlib.pyplot as plt\n",
    "import requests"
   ]
  },
  {
   "cell_type": "code",
   "execution_count": 35,
   "id": "4dbccee1",
   "metadata": {},
   "outputs": [],
   "source": [
    "# Extract GENERAL Table From Website\n",
    "years = range(2010, 2020, 1)\n",
    "dfs = {} \n",
    "for year in years:\n",
    "    url = f'https://fbref.com/en/comps/22/{year}/{year}-Major-League-Soccer-Stats'\n",
    "    response = requests.get(url)\n",
    "    if response.status_code == 200:\n",
    "        tables = pd.read_html(response.text)\n",
    "        df = pd.DataFrame(tables[4])\n",
    "        df.columns = [col[1] for col in df.columns]\n",
    "        df['year'] = year       \n",
    "        dfs[f'df_{year}'] = df \n",
    "    else:\n",
    "        print(f\"Failed to fetch data for {year}\")\n",
    "\n",
    "# Assign DataFrames to global variables (if necessary)\n",
    "for year in years:\n",
    "    globals()[f'df_{year}'] = dfs[f'df_{year}']"
   ]
  },
  {
   "cell_type": "code",
   "execution_count": 41,
   "id": "77a9cace",
   "metadata": {},
   "outputs": [
    {
     "ename": "ValueError",
     "evalue": "No objects to concatenate",
     "output_type": "error",
     "traceback": [
      "\u001b[0;31m---------------------------------------------------------------------------\u001b[0m",
      "\u001b[0;31mValueError\u001b[0m                                Traceback (most recent call last)",
      "Cell \u001b[0;32mIn[41], line 10\u001b[0m\n\u001b[1;32m      7\u001b[0m         mls_list\u001b[39m.\u001b[39mappend(df)\n\u001b[1;32m      9\u001b[0m \u001b[39m# Create a MultiIndex DataFrame\u001b[39;00m\n\u001b[0;32m---> 10\u001b[0m mls_df \u001b[39m=\u001b[39m pd\u001b[39m.\u001b[39;49mconcat(mls_list, keys\u001b[39m=\u001b[39;49myears, names\u001b[39m=\u001b[39;49m[\u001b[39m'\u001b[39;49m\u001b[39mYear\u001b[39;49m\u001b[39m'\u001b[39;49m])\n\u001b[1;32m     12\u001b[0m \u001b[39m# Display the MultiIndex DataFrame\u001b[39;00m\n\u001b[1;32m     13\u001b[0m \u001b[39mprint\u001b[39m(mls_df)\n",
      "File \u001b[0;32m/Library/Frameworks/Python.framework/Versions/3.10/lib/python3.10/site-packages/pandas/core/reshape/concat.py:372\u001b[0m, in \u001b[0;36mconcat\u001b[0;34m(objs, axis, join, ignore_index, keys, levels, names, verify_integrity, sort, copy)\u001b[0m\n\u001b[1;32m    369\u001b[0m \u001b[39melif\u001b[39;00m copy \u001b[39mand\u001b[39;00m using_copy_on_write():\n\u001b[1;32m    370\u001b[0m     copy \u001b[39m=\u001b[39m \u001b[39mFalse\u001b[39;00m\n\u001b[0;32m--> 372\u001b[0m op \u001b[39m=\u001b[39m _Concatenator(\n\u001b[1;32m    373\u001b[0m     objs,\n\u001b[1;32m    374\u001b[0m     axis\u001b[39m=\u001b[39;49maxis,\n\u001b[1;32m    375\u001b[0m     ignore_index\u001b[39m=\u001b[39;49mignore_index,\n\u001b[1;32m    376\u001b[0m     join\u001b[39m=\u001b[39;49mjoin,\n\u001b[1;32m    377\u001b[0m     keys\u001b[39m=\u001b[39;49mkeys,\n\u001b[1;32m    378\u001b[0m     levels\u001b[39m=\u001b[39;49mlevels,\n\u001b[1;32m    379\u001b[0m     names\u001b[39m=\u001b[39;49mnames,\n\u001b[1;32m    380\u001b[0m     verify_integrity\u001b[39m=\u001b[39;49mverify_integrity,\n\u001b[1;32m    381\u001b[0m     copy\u001b[39m=\u001b[39;49mcopy,\n\u001b[1;32m    382\u001b[0m     sort\u001b[39m=\u001b[39;49msort,\n\u001b[1;32m    383\u001b[0m )\n\u001b[1;32m    385\u001b[0m \u001b[39mreturn\u001b[39;00m op\u001b[39m.\u001b[39mget_result()\n",
      "File \u001b[0;32m/Library/Frameworks/Python.framework/Versions/3.10/lib/python3.10/site-packages/pandas/core/reshape/concat.py:429\u001b[0m, in \u001b[0;36m_Concatenator.__init__\u001b[0;34m(self, objs, axis, join, keys, levels, names, ignore_index, verify_integrity, copy, sort)\u001b[0m\n\u001b[1;32m    426\u001b[0m     objs \u001b[39m=\u001b[39m \u001b[39mlist\u001b[39m(objs)\n\u001b[1;32m    428\u001b[0m \u001b[39mif\u001b[39;00m \u001b[39mlen\u001b[39m(objs) \u001b[39m==\u001b[39m \u001b[39m0\u001b[39m:\n\u001b[0;32m--> 429\u001b[0m     \u001b[39mraise\u001b[39;00m \u001b[39mValueError\u001b[39;00m(\u001b[39m\"\u001b[39m\u001b[39mNo objects to concatenate\u001b[39m\u001b[39m\"\u001b[39m)\n\u001b[1;32m    431\u001b[0m \u001b[39mif\u001b[39;00m keys \u001b[39mis\u001b[39;00m \u001b[39mNone\u001b[39;00m:\n\u001b[1;32m    432\u001b[0m     objs \u001b[39m=\u001b[39m \u001b[39mlist\u001b[39m(com\u001b[39m.\u001b[39mnot_none(\u001b[39m*\u001b[39mobjs))\n",
      "\u001b[0;31mValueError\u001b[0m: No objects to concatenate"
     ]
    }
   ],
   "source": [
    "mls_list = []\n",
    "\n",
    "# Append the DataFrames to mls_list\n",
    "for year in years:\n",
    "    if year in dfs:\n",
    "        df = dfs[year].reset_index(drop=True)  # Reset the index to ensure it's unique\n",
    "        mls_list.append(df)\n",
    "\n",
    "# Create a MultiIndex DataFrame\n",
    "mls_df = pd.concat(mls_list, keys=years, names=['Year'])\n",
    "\n",
    "# Display the MultiIndex DataFrame\n",
    "print(mls_df)"
   ]
  }
 ],
 "metadata": {
  "kernelspec": {
   "display_name": "Python 3",
   "language": "python",
   "name": "python3"
  },
  "language_info": {
   "codemirror_mode": {
    "name": "ipython",
    "version": 3
   },
   "file_extension": ".py",
   "mimetype": "text/x-python",
   "name": "python",
   "nbconvert_exporter": "python",
   "pygments_lexer": "ipython3",
   "version": "3.10.0"
  }
 },
 "nbformat": 4,
 "nbformat_minor": 5
}
